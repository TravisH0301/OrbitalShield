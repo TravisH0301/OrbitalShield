{
 "cells": [
  {
   "cell_type": "markdown",
   "id": "c9ee3fc0",
   "metadata": {},
   "source": [
    "# OrbitalShield Exploratory Data Analysis"
   ]
  },
  {
   "cell_type": "code",
   "execution_count": 5,
   "id": "f2f9bdb1",
   "metadata": {},
   "outputs": [],
   "source": [
    "# !pip install spacetrack"
   ]
  },
  {
   "cell_type": "code",
   "execution_count": 35,
   "id": "1a78a3f2",
   "metadata": {},
   "outputs": [],
   "source": [
    "# !pip install sgp4"
   ]
  },
  {
   "cell_type": "code",
   "execution_count": 138,
   "id": "86a519fb",
   "metadata": {},
   "outputs": [],
   "source": [
    "from datetime import(\n",
    "    datetime,\n",
    "    timedelta,\n",
    "    timezone,\n",
    ")\n",
    "import getpass\n",
    "import json\n",
    "\n",
    "import numpy as np\n",
    "import pandas as pd\n",
    "from sgp4.api import(\n",
    "    jday,\n",
    "    Satrec,\n",
    "    SatrecArray,\n",
    ")\n",
    "from spacetrack import SpaceTrackClient"
   ]
  },
  {
   "cell_type": "markdown",
   "id": "cdd13c9f",
   "metadata": {},
   "source": [
    "## Conjunction Assess"
   ]
  },
  {
   "cell_type": "code",
   "execution_count": null,
   "id": "f984fcfd",
   "metadata": {},
   "outputs": [],
   "source": [
    "# Define Space-Track credential\n",
    "ST_USER = input(\"Username:\")\n",
    "ST_PWD = getpass.getpass(\"Password:\")"
   ]
  },
  {
   "cell_type": "code",
   "execution_count": 113,
   "id": "42f8c500",
   "metadata": {},
   "outputs": [],
   "source": [
    "# Fetch latest satellite records\n",
    "with SpaceTrackClient(ST_USER, ST_PWD) as st:\n",
    "    resp = st.gp(\n",
    "        epoch=\">now-1\",\n",
    "        format=\"json\",\n",
    "    )"
   ]
  },
  {
   "cell_type": "code",
   "execution_count": null,
   "id": "044a7c88",
   "metadata": {},
   "outputs": [
    {
     "data": {
      "text/plain": [
       "Index(['CCSDS_OMM_VERS', 'COMMENT', 'CREATION_DATE', 'ORIGINATOR',\n",
       "       'OBJECT_NAME', 'OBJECT_ID', 'CENTER_NAME', 'REF_FRAME', 'TIME_SYSTEM',\n",
       "       'MEAN_ELEMENT_THEORY', 'EPOCH', 'MEAN_MOTION', 'ECCENTRICITY',\n",
       "       'INCLINATION', 'RA_OF_ASC_NODE', 'ARG_OF_PERICENTER', 'MEAN_ANOMALY',\n",
       "       'EPHEMERIS_TYPE', 'CLASSIFICATION_TYPE', 'NORAD_CAT_ID',\n",
       "       'ELEMENT_SET_NO', 'REV_AT_EPOCH', 'BSTAR', 'MEAN_MOTION_DOT',\n",
       "       'MEAN_MOTION_DDOT', 'SEMIMAJOR_AXIS', 'PERIOD', 'APOAPSIS', 'PERIAPSIS',\n",
       "       'OBJECT_TYPE', 'RCS_SIZE', 'COUNTRY_CODE', 'LAUNCH_DATE', 'SITE',\n",
       "       'DECAY_DATE', 'FILE', 'GP_ID', 'TLE_LINE0', 'TLE_LINE1', 'TLE_LINE2'],\n",
       "      dtype='object')"
      ]
     },
     "execution_count": 114,
     "metadata": {},
     "output_type": "execute_result"
    }
   ],
   "source": [
    "\"\"\"Use metadata from JSON to create satellite dim table\"\"\"\n",
    "# Convert JSON records to dataframe\n",
    "df = pd.DataFrame(json.loads(resp))\n",
    "\n",
    "df.columns"
   ]
  },
  {
   "cell_type": "code",
   "execution_count": 206,
   "id": "237fed0d",
   "metadata": {},
   "outputs": [],
   "source": [
    "# Define array of satellite objects based on TLE data\n",
    "sat_arry = SatrecArray([\n",
    "    Satrec.twoline2rv(t1, t2) for t1, t2 in df[[\"TLE_LINE1\", \"TLE_LINE2\"]].to_numpy()\n",
    "])"
   ]
  },
  {
   "cell_type": "code",
   "execution_count": 217,
   "id": "3f587746",
   "metadata": {},
   "outputs": [],
   "source": [
    "# Define future timestamps to propagate orbits\n",
    "diff_min = 5\n",
    "total_min = 60 * 24\n",
    "curr_ts = datetime.now(timezone.utc)\n",
    "future_ts_li = []\n",
    "for i in range(diff_min, total_min + diff_min, diff_min):\n",
    "    ts = curr_ts + timedelta(minutes=i)\n",
    "    future_ts_li.append(ts)\n",
    "\n",
    "# Convert timestamps to Julian dates\n",
    "jd_arry = fr_arry = np.empty(0)\n",
    "for ts in future_ts_li:\n",
    "    jd, fr = jday(\n",
    "        ts.year,\n",
    "        ts.month,\n",
    "        ts.day,\n",
    "        ts.hour,\n",
    "        ts.minute,\n",
    "        ts.second + ts.microsecond / 1e6\n",
    "    )\n",
    "    jd_arry = np.append(jd_arry, jd)\n",
    "    fr_arry = np.append(fr_arry, fr)\n",
    "\n",
    "# Propagate orbits using future dates\n",
    "e, r, v = sat_arry.sgp4(jd_arry, fr_arry)  # error, position, velocity"
   ]
  },
  {
   "cell_type": "code",
   "execution_count": null,
   "id": "a8ce3d72",
   "metadata": {},
   "outputs": [],
   "source": [
    "# Define dict for satellite IDs and their propagated orbits\n",
    "sat_orbit_dict = dict(zip(df[\"NORAD_CAT_ID\"], r))"
   ]
  },
  {
   "cell_type": "code",
   "execution_count": null,
   "id": "b2f4a262",
   "metadata": {},
   "outputs": [],
   "source": []
  },
  {
   "cell_type": "code",
   "execution_count": null,
   "id": "0268b65f",
   "metadata": {},
   "outputs": [],
   "source": []
  },
  {
   "cell_type": "code",
   "execution_count": null,
   "id": "166bfaac",
   "metadata": {},
   "outputs": [],
   "source": []
  },
  {
   "cell_type": "code",
   "execution_count": 240,
   "id": "25434a4b",
   "metadata": {},
   "outputs": [
    {
     "name": "stdout",
     "output_type": "stream",
     "text": [
      "Time 2025-05-11 17:10:41.959538+00:00: 39815 potential close pairs found\n",
      "Time 2025-05-11 17:15:41.959538+00:00: 39809 potential close pairs found\n",
      "Time 2025-05-11 17:20:41.959538+00:00: 39807 potential close pairs found\n",
      "Time 2025-05-11 17:25:41.959538+00:00: 39732 potential close pairs found\n",
      "Time 2025-05-11 17:30:41.959538+00:00: 39767 potential close pairs found\n",
      "Time 2025-05-11 17:35:41.959538+00:00: 39914 potential close pairs found\n",
      "Time 2025-05-11 17:40:41.959538+00:00: 39791 potential close pairs found\n",
      "Time 2025-05-11 17:45:41.959538+00:00: 39870 potential close pairs found\n",
      "Time 2025-05-11 17:50:41.959538+00:00: 39802 potential close pairs found\n",
      "Time 2025-05-11 17:55:41.959538+00:00: 39809 potential close pairs found\n",
      "Time 2025-05-11 18:00:41.959538+00:00: 39827 potential close pairs found\n",
      "Time 2025-05-11 18:05:41.959538+00:00: 39828 potential close pairs found\n",
      "Time 2025-05-11 18:10:41.959538+00:00: 39945 potential close pairs found\n",
      "Time 2025-05-11 18:15:41.959538+00:00: 39796 potential close pairs found\n",
      "Time 2025-05-11 18:20:41.959538+00:00: 39898 potential close pairs found\n",
      "Time 2025-05-11 18:25:41.959538+00:00: 39856 potential close pairs found\n",
      "Time 2025-05-11 18:30:41.959538+00:00: 39904 potential close pairs found\n",
      "Time 2025-05-11 18:35:41.959538+00:00: 39818 potential close pairs found\n",
      "Time 2025-05-11 18:40:41.959538+00:00: 39813 potential close pairs found\n",
      "Time 2025-05-11 18:45:41.959538+00:00: 39766 potential close pairs found\n",
      "Time 2025-05-11 18:50:41.959538+00:00: 39748 potential close pairs found\n",
      "Time 2025-05-11 18:55:41.959538+00:00: 39785 potential close pairs found\n",
      "Time 2025-05-11 19:00:41.959538+00:00: 39820 potential close pairs found\n",
      "Time 2025-05-11 19:05:41.959538+00:00: 39756 potential close pairs found\n",
      "Time 2025-05-11 19:10:41.959538+00:00: 39868 potential close pairs found\n",
      "Time 2025-05-11 19:15:41.959538+00:00: 39853 potential close pairs found\n",
      "Time 2025-05-11 19:20:41.959538+00:00: 39819 potential close pairs found\n"
     ]
    },
    {
     "ename": "KeyboardInterrupt",
     "evalue": "",
     "output_type": "error",
     "traceback": [
      "\u001b[1;31m---------------------------------------------------------------------------\u001b[0m",
      "\u001b[1;31mKeyboardInterrupt\u001b[0m                         Traceback (most recent call last)",
      "Cell \u001b[1;32mIn[240], line 16\u001b[0m\n\u001b[0;32m     13\u001b[0m pairs \u001b[38;5;241m=\u001b[39m []\n\u001b[0;32m     15\u001b[0m \u001b[38;5;28;01mfor\u001b[39;00m idx, sid \u001b[38;5;129;01min\u001b[39;00m \u001b[38;5;28menumerate\u001b[39m(sat_ids):\n\u001b[1;32m---> 16\u001b[0m     dists, neighbors \u001b[38;5;241m=\u001b[39m \u001b[43mtree\u001b[49m\u001b[38;5;241;43m.\u001b[39;49m\u001b[43mquery\u001b[49m\u001b[43m(\u001b[49m\u001b[43mcoords\u001b[49m\u001b[43m[\u001b[49m\u001b[43midx\u001b[49m\u001b[43m]\u001b[49m\u001b[43m,\u001b[49m\u001b[43m \u001b[49m\u001b[43mk\u001b[49m\u001b[38;5;241;43m=\u001b[39;49m\u001b[38;5;241;43m4\u001b[39;49m\u001b[43m)\u001b[49m  \u001b[38;5;66;03m# 3 nearest neighbors + self\u001b[39;00m\n\u001b[0;32m     17\u001b[0m     \u001b[38;5;28;01mfor\u001b[39;00m j \u001b[38;5;129;01min\u001b[39;00m \u001b[38;5;28mrange\u001b[39m(\u001b[38;5;241m1\u001b[39m, \u001b[38;5;28mlen\u001b[39m(neighbors)):\n\u001b[0;32m     18\u001b[0m         pair \u001b[38;5;241m=\u001b[39m \u001b[38;5;28mtuple\u001b[39m(\u001b[38;5;28msorted\u001b[39m([sid, sat_ids[neighbors[j]]]))\n",
      "File \u001b[1;32mc:\\Users\\bog74\\AppData\\Local\\Programs\\Python\\Python38\\lib\\site-packages\\scipy\\spatial\\_kdtree.py:475\u001b[0m, in \u001b[0;36mKDTree.query\u001b[1;34m(self, x, k, eps, p, distance_upper_bound, workers)\u001b[0m\n\u001b[0;32m    472\u001b[0m \u001b[38;5;28;01mif\u001b[39;00m k \u001b[38;5;129;01mis\u001b[39;00m \u001b[38;5;28;01mNone\u001b[39;00m:\n\u001b[0;32m    473\u001b[0m     \u001b[38;5;28;01mraise\u001b[39;00m \u001b[38;5;167;01mValueError\u001b[39;00m(\u001b[38;5;124m\"\u001b[39m\u001b[38;5;124mk must be an integer or a sequence of integers\u001b[39m\u001b[38;5;124m\"\u001b[39m)\n\u001b[1;32m--> 475\u001b[0m d, i \u001b[38;5;241m=\u001b[39m \u001b[38;5;28;43msuper\u001b[39;49m\u001b[43m(\u001b[49m\u001b[43m)\u001b[49m\u001b[38;5;241;43m.\u001b[39;49m\u001b[43mquery\u001b[49m\u001b[43m(\u001b[49m\u001b[43mx\u001b[49m\u001b[43m,\u001b[49m\u001b[43m \u001b[49m\u001b[43mk\u001b[49m\u001b[43m,\u001b[49m\u001b[43m \u001b[49m\u001b[43meps\u001b[49m\u001b[43m,\u001b[49m\u001b[43m \u001b[49m\u001b[43mp\u001b[49m\u001b[43m,\u001b[49m\u001b[43m \u001b[49m\u001b[43mdistance_upper_bound\u001b[49m\u001b[43m,\u001b[49m\u001b[43m \u001b[49m\u001b[43mworkers\u001b[49m\u001b[43m)\u001b[49m\n\u001b[0;32m    476\u001b[0m \u001b[38;5;28;01mif\u001b[39;00m \u001b[38;5;28misinstance\u001b[39m(i, \u001b[38;5;28mint\u001b[39m):\n\u001b[0;32m    477\u001b[0m     i \u001b[38;5;241m=\u001b[39m np\u001b[38;5;241m.\u001b[39mintp(i)\n",
      "File \u001b[1;32m_ckdtree.pyx:824\u001b[0m, in \u001b[0;36mscipy.spatial._ckdtree.cKDTree.query\u001b[1;34m()\u001b[0m\n",
      "File \u001b[1;32m<__array_function__ internals>:177\u001b[0m, in \u001b[0;36mreshape\u001b[1;34m(*args, **kwargs)\u001b[0m\n",
      "File \u001b[1;32m_pydevd_bundle/pydevd_cython.pyx:1457\u001b[0m, in \u001b[0;36m_pydevd_bundle.pydevd_cython.SafeCallWrapper.__call__\u001b[1;34m()\u001b[0m\n",
      "File \u001b[1;32m_pydevd_bundle/pydevd_cython.pyx:1758\u001b[0m, in \u001b[0;36m_pydevd_bundle.pydevd_cython.ThreadTracer.__call__\u001b[1;34m()\u001b[0m\n",
      "File \u001b[1;32mc:\\Users\\bog74\\AppData\\Local\\Programs\\Python\\Python38\\lib\\site-packages\\debugpy\\_vendored\\pydevd\\_pydev_bundle\\pydev_is_thread_alive.py:9\u001b[0m, in \u001b[0;36mis_thread_alive\u001b[1;34m(t)\u001b[0m\n\u001b[0;32m      6\u001b[0m _temp \u001b[38;5;241m=\u001b[39m threading\u001b[38;5;241m.\u001b[39mThread()\n\u001b[0;32m      7\u001b[0m \u001b[38;5;28;01mif\u001b[39;00m \u001b[38;5;28mhasattr\u001b[39m(_temp, \u001b[38;5;124m'\u001b[39m\u001b[38;5;124m_is_stopped\u001b[39m\u001b[38;5;124m'\u001b[39m):  \u001b[38;5;66;03m# Python 3.x has this\u001b[39;00m\n\u001b[1;32m----> 9\u001b[0m     \u001b[38;5;28;01mdef\u001b[39;00m \u001b[38;5;21mis_thread_alive\u001b[39m(t):\n\u001b[0;32m     10\u001b[0m         \u001b[38;5;28;01mreturn\u001b[39;00m \u001b[38;5;129;01mnot\u001b[39;00m t\u001b[38;5;241m.\u001b[39m_is_stopped\n\u001b[0;32m     12\u001b[0m \u001b[38;5;28;01melif\u001b[39;00m \u001b[38;5;28mhasattr\u001b[39m(_temp, \u001b[38;5;124m'\u001b[39m\u001b[38;5;124m_Thread__stopped\u001b[39m\u001b[38;5;124m'\u001b[39m):  \u001b[38;5;66;03m# Python 2.x has this\u001b[39;00m\n",
      "\u001b[1;31mKeyboardInterrupt\u001b[0m: "
     ]
    }
   ],
   "source": [
    "from scipy.spatial import KDTree\n",
    "# For each timestamp, find neighbor pairs\n",
    "for i, t in enumerate(future_ts_li):\n",
    "    coords = []\n",
    "    sat_ids = []\n",
    "    for sid, pos_list in sat_orbit_dict.items():\n",
    "        if i < len(pos_list):\n",
    "            coords.append(pos_list[i])\n",
    "            sat_ids.append(sid)\n",
    "\n",
    "    coords = np.array(coords)\n",
    "    tree = KDTree(coords)\n",
    "    pairs = []\n",
    "\n",
    "    for idx, sid in enumerate(sat_ids):\n",
    "        dists, neighbors = tree.query(coords[idx], k=4)  # 3 nearest neighbors + self\n",
    "        for j in range(1, len(neighbors)):\n",
    "            pair = tuple(sorted([sid, sat_ids[neighbors[j]]]))\n",
    "            pairs.append(pair)\n",
    "\n",
    "    unique_pairs = list(set(pairs))\n",
    "    print(f\"Time {t}: {len(unique_pairs)} potential close pairs found\")"
   ]
  },
  {
   "cell_type": "code",
   "execution_count": 239,
   "id": "12d2614c",
   "metadata": {},
   "outputs": [
    {
     "data": {
      "text/plain": [
       "{1: 'mean eccentricity is outside the range 0.0 to 1.0',\n",
       " 2: 'nm is less than zero',\n",
       " 3: 'perturbed eccentricity is outside the range 0.0 to 1.0',\n",
       " 4: 'semilatus rectum is less than zero',\n",
       " 5: '(error 5 no longer in use; it meant the satellite was underground)',\n",
       " 6: 'mrt is less than 1.0 which indicates the satellite has decayed'}"
      ]
     },
     "execution_count": 239,
     "metadata": {},
     "output_type": "execute_result"
    }
   ],
   "source": [
    "# Check SGP4 errors\n",
    "from sgp4.api import SGP4_ERRORS\n",
    "SGP4_ERRORS"
   ]
  }
 ],
 "metadata": {
  "kernelspec": {
   "display_name": "Python 3",
   "language": "python",
   "name": "python3"
  },
  "language_info": {
   "codemirror_mode": {
    "name": "ipython",
    "version": 3
   },
   "file_extension": ".py",
   "mimetype": "text/x-python",
   "name": "python",
   "nbconvert_exporter": "python",
   "pygments_lexer": "ipython3",
   "version": "3.8.0"
  }
 },
 "nbformat": 4,
 "nbformat_minor": 5
}
