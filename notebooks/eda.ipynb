{
 "cells": [
  {
   "cell_type": "markdown",
   "id": "c9ee3fc0",
   "metadata": {},
   "source": [
    "# OrbitalShield Exploratory Data Analysis"
   ]
  },
  {
   "cell_type": "code",
   "execution_count": 5,
   "id": "f2f9bdb1",
   "metadata": {},
   "outputs": [],
   "source": [
    "# !pip install spacetrack"
   ]
  },
  {
   "cell_type": "code",
   "execution_count": 35,
   "id": "1a78a3f2",
   "metadata": {},
   "outputs": [],
   "source": [
    "# !pip install sgp4"
   ]
  },
  {
   "cell_type": "code",
   "execution_count": null,
   "id": "86a519fb",
   "metadata": {},
   "outputs": [],
   "source": [
    "from datetime import(\n",
    "    datetime,\n",
    "    timedelta,\n",
    "    timezone,\n",
    ")\n",
    "import getpass\n",
    "import json\n",
    "\n",
    "import numpy as np\n",
    "from numpy.linalg import norm\n",
    "import pandas as pd\n",
    "from scipy.spatial import Voronoi\n",
    "from sgp4.api import(\n",
    "    jday,\n",
    "    Satrec,\n",
    "    SatrecArray,\n",
    ")\n",
    "from spacetrack import SpaceTrackClient"
   ]
  },
  {
   "cell_type": "markdown",
   "id": "cdd13c9f",
   "metadata": {},
   "source": [
    "## Conjunction Assess"
   ]
  },
  {
   "cell_type": "code",
   "execution_count": null,
   "id": "f984fcfd",
   "metadata": {},
   "outputs": [],
   "source": [
    "# Define Space-Track credential\n",
    "ST_USER = input(\"Username:\")\n",
    "ST_PWD = getpass.getpass(\"Password:\")"
   ]
  },
  {
   "cell_type": "code",
   "execution_count": 113,
   "id": "42f8c500",
   "metadata": {},
   "outputs": [],
   "source": [
    "# Fetch latest satellite records\n",
    "with SpaceTrackClient(ST_USER, ST_PWD) as st:\n",
    "    resp = st.gp(\n",
    "        epoch=\">now-1\",\n",
    "        format=\"json\",\n",
    "    )"
   ]
  },
  {
   "cell_type": "code",
   "execution_count": null,
   "id": "044a7c88",
   "metadata": {},
   "outputs": [
    {
     "data": {
      "text/plain": [
       "Index(['CCSDS_OMM_VERS', 'COMMENT', 'CREATION_DATE', 'ORIGINATOR',\n",
       "       'OBJECT_NAME', 'OBJECT_ID', 'CENTER_NAME', 'REF_FRAME', 'TIME_SYSTEM',\n",
       "       'MEAN_ELEMENT_THEORY', 'EPOCH', 'MEAN_MOTION', 'ECCENTRICITY',\n",
       "       'INCLINATION', 'RA_OF_ASC_NODE', 'ARG_OF_PERICENTER', 'MEAN_ANOMALY',\n",
       "       'EPHEMERIS_TYPE', 'CLASSIFICATION_TYPE', 'NORAD_CAT_ID',\n",
       "       'ELEMENT_SET_NO', 'REV_AT_EPOCH', 'BSTAR', 'MEAN_MOTION_DOT',\n",
       "       'MEAN_MOTION_DDOT', 'SEMIMAJOR_AXIS', 'PERIOD', 'APOAPSIS', 'PERIAPSIS',\n",
       "       'OBJECT_TYPE', 'RCS_SIZE', 'COUNTRY_CODE', 'LAUNCH_DATE', 'SITE',\n",
       "       'DECAY_DATE', 'FILE', 'GP_ID', 'TLE_LINE0', 'TLE_LINE1', 'TLE_LINE2'],\n",
       "      dtype='object')"
      ]
     },
     "execution_count": 114,
     "metadata": {},
     "output_type": "execute_result"
    }
   ],
   "source": [
    "\"\"\"Use metadata from JSON to create satellite dim table\"\"\"\n",
    "# Convert JSON records to dataframe\n",
    "df = pd.DataFrame(json.loads(resp))\n",
    "\n",
    "df.columns"
   ]
  },
  {
   "cell_type": "code",
   "execution_count": 206,
   "id": "237fed0d",
   "metadata": {},
   "outputs": [],
   "source": [
    "# Define array of satellite objects based on TLE data\n",
    "sat_arry = SatrecArray([\n",
    "    Satrec.twoline2rv(t1, t2) for t1, t2 in df[[\"TLE_LINE1\", \"TLE_LINE2\"]].to_numpy()\n",
    "])"
   ]
  },
  {
   "cell_type": "code",
   "execution_count": null,
   "id": "3f587746",
   "metadata": {},
   "outputs": [],
   "source": [
    "# Define future timestamps to propagate orbits\n",
    "diff_min = 5\n",
    "total_min = 60 * 24\n",
    "curr_ts = datetime.now(timezone.utc)\n",
    "future_ts_li = []\n",
    "for i in range(diff_min, total_min + diff_min, diff_min):\n",
    "    ts = curr_ts + timedelta(minutes=i)\n",
    "    future_ts_li.append(ts)\n",
    "\n",
    "# Convert timestamps to Julian dates\n",
    "jd_arry = fr_arry = np.empty(0)\n",
    "for ts in future_ts_li:\n",
    "    jd, fr = jday(\n",
    "        ts.year,\n",
    "        ts.month,\n",
    "        ts.day,\n",
    "        ts.hour,\n",
    "        ts.minute,\n",
    "        ts.second + ts.microsecond / 1e6\n",
    "    )\n",
    "    jd_arry = np.append(jd_arry, jd)\n",
    "    fr_arry = np.append(fr_arry, fr)\n",
    "\n",
    "# Propagate orbits using future dates\n",
    "e, r, v = sat_arry.sgp4(jd_arry, fr_arry)  # error, position[x, y, z], velocity"
   ]
  },
  {
   "cell_type": "code",
   "execution_count": null,
   "id": "a8ce3d72",
   "metadata": {},
   "outputs": [],
   "source": [
    "# Define dict for satellite IDs and their propagated orbits\n",
    "\"\"\"\n",
    "sat_orbit_dict = {\n",
    "    sat_id_1: [\n",
    "        [x_t1, y_t1, z_t1],\n",
    "        ...\n",
    "        [x_tn, y_tn, z_tn],\n",
    "    ],\n",
    "    ...\n",
    "    sat_id_n:...\n",
    "}\n",
    "\"\"\"\n",
    "sat_orbit_dict = dict(zip(df[\"NORAD_CAT_ID\"], r))"
   ]
  },
  {
   "cell_type": "code",
   "execution_count": null,
   "id": "cd6ba2d7",
   "metadata": {},
   "outputs": [
    {
     "name": "stdout",
     "output_type": "stream",
     "text": [
      "('62902', '62903')\n"
     ]
    }
   ],
   "source": [
    "# Loop through future timestamps to find conjunction candidates\n",
    "sat_ids = list(sat_orbit_dict.keys())\n",
    "for i, ts in enumerate(future_ts_li):\n",
    "    # Collect satellite positions at iterating timestamp\n",
    "    positions = []\n",
    "    for sat_id, orbits in sat_orbit_dict.items():\n",
    "        positions.append(orbits[i])\n",
    "\n",
    "    # Map Voronoi diagram to identify neighbouring satellites\n",
    "    vor = Voronoi(positions)\n",
    "    neighbour_pairs = set()\n",
    "\n",
    "    for idx1, idx2 in vor.ridge_points:\n",
    "        sat1 = sat_ids[idx1]\n",
    "        sat2 = sat_ids[idx2]\n",
    "        pair = tuple(sorted((sat1, sat2)))\n",
    "        neighbour_pairs.add(pair)\n",
    "\n",
    "    # Identify pairs with Euclidean distance < threshold\n",
    "    threshold = 5  # km\n",
    "    for pair in neighbour_pairs:\n",
    "        dist = norm(positions[sat_ids.index(pair[0])] - positions[sat_ids.index(pair[1])])\n",
    "        if dist < threshold:\n",
    "            print(pair)\n",
    "    break"
   ]
  },
  {
   "cell_type": "code",
   "execution_count": null,
   "id": "792f7a74",
   "metadata": {},
   "outputs": [],
   "source": []
  },
  {
   "cell_type": "code",
   "execution_count": 239,
   "id": "12d2614c",
   "metadata": {},
   "outputs": [
    {
     "data": {
      "text/plain": [
       "{1: 'mean eccentricity is outside the range 0.0 to 1.0',\n",
       " 2: 'nm is less than zero',\n",
       " 3: 'perturbed eccentricity is outside the range 0.0 to 1.0',\n",
       " 4: 'semilatus rectum is less than zero',\n",
       " 5: '(error 5 no longer in use; it meant the satellite was underground)',\n",
       " 6: 'mrt is less than 1.0 which indicates the satellite has decayed'}"
      ]
     },
     "execution_count": 239,
     "metadata": {},
     "output_type": "execute_result"
    }
   ],
   "source": [
    "# Check SGP4 errors\n",
    "from sgp4.api import SGP4_ERRORS\n",
    "SGP4_ERRORS"
   ]
  }
 ],
 "metadata": {
  "kernelspec": {
   "display_name": "Python 3",
   "language": "python",
   "name": "python3"
  },
  "language_info": {
   "codemirror_mode": {
    "name": "ipython",
    "version": 3
   },
   "file_extension": ".py",
   "mimetype": "text/x-python",
   "name": "python",
   "nbconvert_exporter": "python",
   "pygments_lexer": "ipython3",
   "version": "3.8.0"
  }
 },
 "nbformat": 4,
 "nbformat_minor": 5
}
