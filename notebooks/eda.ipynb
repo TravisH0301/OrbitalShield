{
 "cells": [
  {
   "cell_type": "markdown",
   "id": "c9ee3fc0",
   "metadata": {},
   "source": [
    "# OrbitalShield Exploratory Data Analysis"
   ]
  },
  {
   "cell_type": "code",
   "execution_count": 38,
   "id": "f2f9bdb1",
   "metadata": {},
   "outputs": [],
   "source": [
    "# !pip install spacetrack"
   ]
  },
  {
   "cell_type": "code",
   "execution_count": 39,
   "id": "1a78a3f2",
   "metadata": {},
   "outputs": [],
   "source": [
    "# !pip install sgp4"
   ]
  },
  {
   "cell_type": "code",
   "execution_count": 40,
   "id": "86a519fb",
   "metadata": {},
   "outputs": [],
   "source": [
    "from collections import defaultdict\n",
    "from datetime import(\n",
    "    datetime,\n",
    "    timedelta,\n",
    "    timezone,\n",
    ")\n",
    "import getpass\n",
    "import json\n",
    "from typing import(\n",
    "    Dict,\n",
    "    List,\n",
    "    Tuple,\n",
    ")\n",
    "\n",
    "import numpy as np\n",
    "from numpy.linalg import norm\n",
    "import pandas as pd\n",
    "from scipy.spatial import Voronoi\n",
    "from sgp4.api import(\n",
    "    jday,\n",
    "    Satrec,\n",
    "    SatrecArray,\n",
    ")\n",
    "from spacetrack import SpaceTrackClient"
   ]
  },
  {
   "cell_type": "markdown",
   "id": "cdd13c9f",
   "metadata": {},
   "source": [
    "## Extract latest data"
   ]
  },
  {
   "cell_type": "code",
   "execution_count": 41,
   "id": "f984fcfd",
   "metadata": {},
   "outputs": [],
   "source": [
    "# Define Space-Track credential\n",
    "ST_USER = input(\"Username:\")\n",
    "ST_PWD = getpass.getpass(\"Password:\")"
   ]
  },
  {
   "cell_type": "code",
   "execution_count": 42,
   "id": "42f8c500",
   "metadata": {},
   "outputs": [],
   "source": [
    "# Fetch latest satellite records\n",
    "with SpaceTrackClient(ST_USER, ST_PWD) as st:\n",
    "    resp = st.gp(\n",
    "        epoch=\">now-1\",\n",
    "        format=\"json\",\n",
    "    )"
   ]
  },
  {
   "cell_type": "code",
   "execution_count": 43,
   "id": "044a7c88",
   "metadata": {},
   "outputs": [
    {
     "data": {
      "text/html": [
       "<div>\n",
       "<style scoped>\n",
       "    .dataframe tbody tr th:only-of-type {\n",
       "        vertical-align: middle;\n",
       "    }\n",
       "\n",
       "    .dataframe tbody tr th {\n",
       "        vertical-align: top;\n",
       "    }\n",
       "\n",
       "    .dataframe thead th {\n",
       "        text-align: right;\n",
       "    }\n",
       "</style>\n",
       "<table border=\"1\" class=\"dataframe\">\n",
       "  <thead>\n",
       "    <tr style=\"text-align: right;\">\n",
       "      <th></th>\n",
       "      <th>CCSDS_OMM_VERS</th>\n",
       "      <th>COMMENT</th>\n",
       "      <th>CREATION_DATE</th>\n",
       "      <th>ORIGINATOR</th>\n",
       "      <th>OBJECT_NAME</th>\n",
       "      <th>OBJECT_ID</th>\n",
       "      <th>CENTER_NAME</th>\n",
       "      <th>REF_FRAME</th>\n",
       "      <th>TIME_SYSTEM</th>\n",
       "      <th>MEAN_ELEMENT_THEORY</th>\n",
       "      <th>...</th>\n",
       "      <th>RCS_SIZE</th>\n",
       "      <th>COUNTRY_CODE</th>\n",
       "      <th>LAUNCH_DATE</th>\n",
       "      <th>SITE</th>\n",
       "      <th>DECAY_DATE</th>\n",
       "      <th>FILE</th>\n",
       "      <th>GP_ID</th>\n",
       "      <th>TLE_LINE0</th>\n",
       "      <th>TLE_LINE1</th>\n",
       "      <th>TLE_LINE2</th>\n",
       "    </tr>\n",
       "  </thead>\n",
       "  <tbody>\n",
       "    <tr>\n",
       "      <th>0</th>\n",
       "      <td>3.0</td>\n",
       "      <td>GENERATED VIA SPACE-TRACK.ORG API</td>\n",
       "      <td>2025-05-13T04:54:31</td>\n",
       "      <td>18 SPCS</td>\n",
       "      <td>STARLINK-5635</td>\n",
       "      <td>2023-013AN</td>\n",
       "      <td>EARTH</td>\n",
       "      <td>TEME</td>\n",
       "      <td>UTC</td>\n",
       "      <td>SGP4</td>\n",
       "      <td>...</td>\n",
       "      <td>LARGE</td>\n",
       "      <td>US</td>\n",
       "      <td>2023-01-26</td>\n",
       "      <td>AFETR</td>\n",
       "      <td>None</td>\n",
       "      <td>4726983</td>\n",
       "      <td>287425155</td>\n",
       "      <td>0 STARLINK-5635</td>\n",
       "      <td>1 55367U 23013AN  25132.65572213  .00000533  0...</td>\n",
       "      <td>2 55367  43.0045 123.2521 0001228 261.4400  98...</td>\n",
       "    </tr>\n",
       "    <tr>\n",
       "      <th>1</th>\n",
       "      <td>3.0</td>\n",
       "      <td>GENERATED VIA SPACE-TRACK.ORG API</td>\n",
       "      <td>2025-05-13T04:54:31</td>\n",
       "      <td>18 SPCS</td>\n",
       "      <td>COSMOS 1275 DEB</td>\n",
       "      <td>1981-053LG</td>\n",
       "      <td>EARTH</td>\n",
       "      <td>TEME</td>\n",
       "      <td>UTC</td>\n",
       "      <td>SGP4</td>\n",
       "      <td>...</td>\n",
       "      <td>SMALL</td>\n",
       "      <td>CIS</td>\n",
       "      <td>1981-06-04</td>\n",
       "      <td>PKMTR</td>\n",
       "      <td>None</td>\n",
       "      <td>4726983</td>\n",
       "      <td>287407271</td>\n",
       "      <td>0 COSMOS 1275 DEB</td>\n",
       "      <td>1 17637U 81053LG  25132.65600970  .00001175  0...</td>\n",
       "      <td>2 17637  83.0679  91.8678 0129388 267.7880 273...</td>\n",
       "    </tr>\n",
       "  </tbody>\n",
       "</table>\n",
       "<p>2 rows × 40 columns</p>\n",
       "</div>"
      ],
      "text/plain": [
       "  CCSDS_OMM_VERS                            COMMENT        CREATION_DATE  \\\n",
       "0            3.0  GENERATED VIA SPACE-TRACK.ORG API  2025-05-13T04:54:31   \n",
       "1            3.0  GENERATED VIA SPACE-TRACK.ORG API  2025-05-13T04:54:31   \n",
       "\n",
       "  ORIGINATOR      OBJECT_NAME   OBJECT_ID CENTER_NAME REF_FRAME TIME_SYSTEM  \\\n",
       "0    18 SPCS    STARLINK-5635  2023-013AN       EARTH      TEME         UTC   \n",
       "1    18 SPCS  COSMOS 1275 DEB  1981-053LG       EARTH      TEME         UTC   \n",
       "\n",
       "  MEAN_ELEMENT_THEORY  ... RCS_SIZE COUNTRY_CODE LAUNCH_DATE   SITE  \\\n",
       "0                SGP4  ...    LARGE           US  2023-01-26  AFETR   \n",
       "1                SGP4  ...    SMALL          CIS  1981-06-04  PKMTR   \n",
       "\n",
       "  DECAY_DATE     FILE      GP_ID          TLE_LINE0  \\\n",
       "0       None  4726983  287425155    0 STARLINK-5635   \n",
       "1       None  4726983  287407271  0 COSMOS 1275 DEB   \n",
       "\n",
       "                                           TLE_LINE1  \\\n",
       "0  1 55367U 23013AN  25132.65572213  .00000533  0...   \n",
       "1  1 17637U 81053LG  25132.65600970  .00001175  0...   \n",
       "\n",
       "                                           TLE_LINE2  \n",
       "0  2 55367  43.0045 123.2521 0001228 261.4400  98...  \n",
       "1  2 17637  83.0679  91.8678 0129388 267.7880 273...  \n",
       "\n",
       "[2 rows x 40 columns]"
      ]
     },
     "execution_count": 43,
     "metadata": {},
     "output_type": "execute_result"
    }
   ],
   "source": [
    "# Convert JSON records to dataframe\n",
    "df = pd.DataFrame(json.loads(resp))\n",
    "df.head(2)"
   ]
  },
  {
   "cell_type": "markdown",
   "id": "7461643d",
   "metadata": {},
   "source": [
    "## Explore columns"
   ]
  },
  {
   "cell_type": "code",
   "execution_count": null,
   "id": "0657a549",
   "metadata": {},
   "outputs": [
    {
     "name": "stdout",
     "output_type": "stream",
     "text": [
      "CCSDS_OMM_VERS : 3.0\n",
      "COMMENT : GENERATED VIA SPACE-TRACK.ORG API\n",
      "CREATION_DATE : 2025-05-13T15:06:32\n",
      "ORIGINATOR : 18 SPCS\n",
      "OBJECT_NAME : ISS (ZARYA)\n",
      "OBJECT_ID : 1998-067A\n",
      "CENTER_NAME : EARTH\n",
      "REF_FRAME : TEME\n",
      "TIME_SYSTEM : UTC\n",
      "MEAN_ELEMENT_THEORY : SGP4\n",
      "EPOCH : 2025-05-13T10:40:15.402144\n",
      "MEAN_MOTION : 15.49506546\n",
      "ECCENTRICITY : 0.00023070\n",
      "INCLINATION : 51.6344\n",
      "RA_OF_ASC_NODE : 119.1760\n",
      "ARG_OF_PERICENTER : 106.2285\n",
      "MEAN_ANOMALY : 253.8958\n",
      "EPHEMERIS_TYPE : 0\n",
      "CLASSIFICATION_TYPE : U\n",
      "NORAD_CAT_ID : 25544\n",
      "ELEMENT_SET_NO : 999\n",
      "REV_AT_EPOCH : 50977\n",
      "BSTAR : 0.00016281000000\n",
      "MEAN_MOTION_DOT : 0.00008689\n",
      "MEAN_MOTION_DDOT : 0.0000000000000\n",
      "SEMIMAJOR_AXIS : 6796.306\n",
      "PERIOD : 92.933\n",
      "APOAPSIS : 419.738\n",
      "PERIAPSIS : 416.603\n",
      "OBJECT_TYPE : PAYLOAD\n",
      "RCS_SIZE : LARGE\n",
      "COUNTRY_CODE : ISS\n",
      "LAUNCH_DATE : 1998-11-20\n",
      "SITE : TTMTR\n",
      "DECAY_DATE : None\n",
      "FILE : 4727603\n",
      "GP_ID : 287448349\n",
      "TLE_LINE0 : 0 ISS (ZARYA)\n",
      "TLE_LINE1 : 1 25544U 98067A   25133.44462271  .00008689  00000-0  16281-3 0  9996\n",
      "TLE_LINE2 : 2 25544  51.6344 119.1760 0002307 106.2285 253.8958 15.49506546509779\n"
     ]
    }
   ],
   "source": [
    "# Print record\n",
    "cols = df.columns\n",
    "records = df.loc[df[\"NORAD_CAT_ID\"]==\"25544\"].iloc[0,:].tolist()\n",
    "\n",
    "for i, col in enumerate(cols):\n",
    "    print(col, \":\", records[i])"
   ]
  },
  {
   "cell_type": "markdown",
   "id": "4e2a8aa5",
   "metadata": {},
   "source": [
    "### Metadata columns"
   ]
  },
  {
   "cell_type": "code",
   "execution_count": null,
   "id": "eac65c6c",
   "metadata": {},
   "outputs": [
    {
     "data": {
      "text/plain": [
       "NORAD_CAT_ID                 25544\n",
       "OBJECT_ID                1998-067A\n",
       "OBJECT_NAME            ISS (ZARYA)\n",
       "OBJECT_TYPE                PAYLOAD\n",
       "CLASSIFICATION_TYPE              U\n",
       "COUNTRY_CODE                   ISS\n",
       "LAUNCH_DATE             1998-11-20\n",
       "SITE                         TTMTR\n",
       "Name: 15955, dtype: object"
      ]
     },
     "execution_count": 45,
     "metadata": {},
     "output_type": "execute_result"
    }
   ],
   "source": [
    "# Print satellite metadata\n",
    "df.loc[df[\"NORAD_CAT_ID\"]==\"25544\"][[\n",
    "    \"NORAD_CAT_ID\",\n",
    "    \"OBJECT_ID\",  # International Code\n",
    "    \"OBJECT_NAME\",\n",
    "    \"OBJECT_TYPE\",\n",
    "    \"CLASSIFICATION_TYPE\",\n",
    "    \"COUNTRY_CODE\",\n",
    "    \"LAUNCH_DATE\",\n",
    "    \"SITE\",  # Launch site\n",
    "]].iloc[0,:]"
   ]
  },
  {
   "cell_type": "markdown",
   "id": "6878cada",
   "metadata": {},
   "source": [
    "### TLE (Two-Line Element) columns"
   ]
  },
  {
   "cell_type": "code",
   "execution_count": null,
   "id": "260881be",
   "metadata": {},
   "outputs": [
    {
     "data": {
      "text/plain": [
       "TLE_LINE1    1 55367U 23013AN  25132.65572213  .00000533  0...\n",
       "TLE_LINE2    2 55367  43.0045 123.2521 0001228 261.4400  98...\n",
       "Name: 0, dtype: object"
      ]
     },
     "execution_count": 46,
     "metadata": {},
     "output_type": "execute_result"
    }
   ],
   "source": [
    "# Print TLE (Two-Line Element)\n",
    "df[[\"TLE_LINE1\", \"TLE_LINE2\"]].iloc[0,:]"
   ]
  },
  {
   "cell_type": "markdown",
   "id": "e9bc1e3e",
   "metadata": {},
   "source": [
    "## Propagate orbits"
   ]
  },
  {
   "cell_type": "code",
   "execution_count": 47,
   "id": "237fed0d",
   "metadata": {},
   "outputs": [],
   "source": [
    "# Define array of satellite objects based on TLE data\n",
    "sat_arry = SatrecArray([\n",
    "    Satrec.twoline2rv(t1, t2) for t1, t2 in df[[\"TLE_LINE1\", \"TLE_LINE2\"]].to_numpy()\n",
    "])"
   ]
  },
  {
   "cell_type": "code",
   "execution_count": 48,
   "id": "3f587746",
   "metadata": {},
   "outputs": [],
   "source": [
    "# Define future timestamps to propagate orbits\n",
    "diff_min = 5\n",
    "total_min = 60 * 24\n",
    "curr_ts = datetime.now(timezone.utc)\n",
    "future_ts_li = []\n",
    "for i in range(diff_min, total_min + diff_min, diff_min):\n",
    "    ts = curr_ts + timedelta(minutes=i)\n",
    "    future_ts_li.append(ts)\n",
    "\n",
    "# Convert timestamps to Julian dates\n",
    "jd_arry = fr_arry = np.empty(0)\n",
    "for ts in future_ts_li:\n",
    "    jd, fr = jday(\n",
    "        ts.year,\n",
    "        ts.month,\n",
    "        ts.day,\n",
    "        ts.hour,\n",
    "        ts.minute,\n",
    "        ts.second + ts.microsecond / 1e6\n",
    "    )\n",
    "    jd_arry = np.append(jd_arry, jd)\n",
    "    fr_arry = np.append(fr_arry, fr)\n",
    "\n",
    "# Propagate orbits using future dates\n",
    "e, r, v = sat_arry.sgp4(jd_arry, fr_arry)  # error, position[x, y, z], velocity"
   ]
  },
  {
   "cell_type": "code",
   "execution_count": 125,
   "id": "cf2d3535",
   "metadata": {},
   "outputs": [],
   "source": [
    "# Remove satellites with invalid results\n",
    "err_idxes = set()\n",
    "for i, errs in enumerate(e):\n",
    "    for err in errs:\n",
    "        if err != 0:\n",
    "            err_idxes.add(i)\n",
    "err_idxes = list(err_idxes)\n",
    "err_idxes.sort(reverse=True)\n",
    "for idx in err_idxes:\n",
    "    e = np.vstack((e[:idx], e[idx+1:]))\n",
    "    r = np.vstack((r[:idx], r[idx+1:]))\n",
    "    v = np.vstack((v[:idx], v[idx+1:]))"
   ]
  },
  {
   "cell_type": "code",
   "execution_count": 126,
   "id": "a8ce3d72",
   "metadata": {},
   "outputs": [],
   "source": [
    "# Define dict for satellite IDs and their propagated orbits\n",
    "\"\"\"\n",
    "sat_orbit_dict = {\n",
    "    sat_id_1: [\n",
    "        [x_t1, y_t1, z_t1],\n",
    "        ...\n",
    "        [x_tn, y_tn, z_tn],\n",
    "    ],\n",
    "    ...\n",
    "    sat_id_n:...\n",
    "}\n",
    "\"\"\"\n",
    "sat_orbit_dict = dict(zip(df[\"NORAD_CAT_ID\"], r))"
   ]
  },
  {
   "cell_type": "markdown",
   "id": "06f6f318",
   "metadata": {},
   "source": [
    "## CA (Conjunction Assess)"
   ]
  },
  {
   "cell_type": "code",
   "execution_count": null,
   "id": "cd6ba2d7",
   "metadata": {},
   "outputs": [],
   "source": [
    "# Loop through future timestamps to find conjunction candidates\n",
    "# at TCA (Time of Closest Approach) with miss distance under threshold\n",
    "dist_threshold = 5  # km\n",
    "sat_ids = list(sat_orbit_dict.keys())\n",
    "pair_ts_dist_dict = defaultdict(list)\n",
    "for i, ts in enumerate(future_ts_li):\n",
    "    # Collect satellite positions at iterating timestamp\n",
    "    positions = []\n",
    "    for sat_id, orbits in sat_orbit_dict.items():\n",
    "        positions.append(orbits[i])\n",
    "\n",
    "    # Map Voronoi diagram to identify neighbouring satellites\n",
    "    vor = Voronoi(positions)\n",
    "    for idx1, idx2 in vor.ridge_points:\n",
    "        sat1 = sat_ids[idx1]\n",
    "        sat2 = sat_ids[idx2]\n",
    "\n",
    "        # Collect pairs with Euclidean distance < threshold\n",
    "        dist = norm(positions[idx1] - positions[idx2])\n",
    "        if dist < dist_threshold:\n",
    "            pair = tuple(sorted((sat1, sat2)))\n",
    "            pair_ts_dist_dict[pair].append((ts, dist))\n",
    "\n",
    "# Determine miss distance at TCA for conjunction candidates\n",
    "conjunction_pairs = []\n",
    "for pair, ts_dist_li in pair_ts_dist_dict.items():\n",
    "    if not ts_dist_li:\n",
    "        continue\n",
    "\n",
    "    tca, dist = min(ts_dist_li, key=lambda x: x[1])\n",
    "    conjunction_pairs.append({\n",
    "        \"Satellite 1\": pair[0],\n",
    "        \"Satellite 2\": pair[1],\n",
    "        \"TCA\": tca,\n",
    "        \"Miss Distance (km)\": dist,\n",
    "    })"
   ]
  },
  {
   "cell_type": "code",
   "execution_count": null,
   "id": "6aba716a",
   "metadata": {},
   "outputs": [
    {
     "ename": "NameError",
     "evalue": "name 'conjunction_pairs' is not defined",
     "output_type": "error",
     "traceback": [
      "\u001b[1;31m---------------------------------------------------------------------------\u001b[0m",
      "\u001b[1;31mNameError\u001b[0m                                 Traceback (most recent call last)",
      "Cell \u001b[1;32mIn[3], line 1\u001b[0m\n\u001b[1;32m----> 1\u001b[0m \u001b[43mconjunction_pairs\u001b[49m\n",
      "\u001b[1;31mNameError\u001b[0m: name 'conjunction_pairs' is not defined"
     ]
    }
   ],
   "source": [
    "conjunction_pairs"
   ]
  },
  {
   "cell_type": "markdown",
   "id": "f596cb25",
   "metadata": {},
   "source": [
    "## COLA (Collision Avoidance)"
   ]
  },
  {
   "cell_type": "code",
   "execution_count": null,
   "id": "1520f959",
   "metadata": {},
   "outputs": [],
   "source": []
  },
  {
   "cell_type": "markdown",
   "id": "4b1dd65b",
   "metadata": {},
   "source": [
    "## Etc."
   ]
  },
  {
   "cell_type": "code",
   "execution_count": null,
   "id": "12d2614c",
   "metadata": {},
   "outputs": [
    {
     "data": {
      "text/plain": [
       "{1: 'mean eccentricity is outside the range 0.0 to 1.0',\n",
       " 2: 'nm is less than zero',\n",
       " 3: 'perturbed eccentricity is outside the range 0.0 to 1.0',\n",
       " 4: 'semilatus rectum is less than zero',\n",
       " 5: '(error 5 no longer in use; it meant the satellite was underground)',\n",
       " 6: 'mrt is less than 1.0 which indicates the satellite has decayed'}"
      ]
     },
     "execution_count": 239,
     "metadata": {},
     "output_type": "execute_result"
    }
   ],
   "source": [
    "# Check SGP4 errors\n",
    "from sgp4.api import SGP4_ERRORS\n",
    "SGP4_ERRORS"
   ]
  }
 ],
 "metadata": {
  "kernelspec": {
   "display_name": "Python 3",
   "language": "python",
   "name": "python3"
  },
  "language_info": {
   "codemirror_mode": {
    "name": "ipython",
    "version": 3
   },
   "file_extension": ".py",
   "mimetype": "text/x-python",
   "name": "python",
   "nbconvert_exporter": "python",
   "pygments_lexer": "ipython3",
   "version": "3.8.0"
  }
 },
 "nbformat": 4,
 "nbformat_minor": 5
}
